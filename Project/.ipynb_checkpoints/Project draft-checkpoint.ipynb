{
 "cells": [
  {
   "cell_type": "code",
   "execution_count": 1,
   "id": "cfaa2ac9-6b7d-4d28-a3f1-3fa50ae50f43",
   "metadata": {},
   "outputs": [
    {
     "data": {
      "text/plain": [
       "'\\nWhat are your scientific questions?\\nWhat are your datasets?\\nWhat is the analysis that you plan to conduct?\\nWhat are the outcomes that you plan to achieve?\\n'"
      ]
     },
     "execution_count": 1,
     "metadata": {},
     "output_type": "execute_result"
    }
   ],
   "source": [
    "\"\"\"\n",
    "What are your scientific questions?\n",
    "How have the frequency and duration of heatwave events in New York City changed over the past 4 decades?\n",
    "\n",
    "What are your datasets?\n",
    "\n",
    "\n",
    "What is the analysis that you plan to conduct?\n",
    "\n",
    "\n",
    "The trend in Heatwave Frequency: \n",
    "Temperature Anomaly Comparison between 1984 and 2024\n",
    "Ratios of Record Highs to Record Lows for 4 Successive Decades in NYC \n",
    "\n",
    "Trend in Heatwave Intensity: \n",
    "mapping increases in the number of days with extreme heatwaves from 1984 and 2024\n",
    "\n",
    "Display Climate Risks: \n",
    "Conceptual representation of the shift in the probability distribution for average and extreme temperatures as a result of global warming\n",
    "\n",
    "What are the outcomes that you plan to achieve?\n",
    "Insights into whether heatwaves are becoming more common or severe, possibly linked to climate change.\n",
    "\n",
    "\"\"\"\n"
   ]
  }
 ],
 "metadata": {
  "kernelspec": {
   "display_name": "Python 3 (ipykernel)",
   "language": "python",
   "name": "python3"
  },
  "language_info": {
   "codemirror_mode": {
    "name": "ipython",
    "version": 3
   },
   "file_extension": ".py",
   "mimetype": "text/x-python",
   "name": "python",
   "nbconvert_exporter": "python",
   "pygments_lexer": "ipython3",
   "version": "3.12.7"
  }
 },
 "nbformat": 4,
 "nbformat_minor": 5
}
